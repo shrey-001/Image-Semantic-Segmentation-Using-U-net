{
  "nbformat": 4,
  "nbformat_minor": 0,
  "metadata": {
    "colab": {
      "name": "U-net_helen_dataset.ipynb",
      "provenance": [],
      "collapsed_sections": [],
      "include_colab_link": true
    },
    "kernelspec": {
      "name": "python3",
      "display_name": "Python 3"
    },
    "language_info": {
      "name": "python"
    },
    "accelerator": "GPU"
  },
  "cells": [
    {
      "cell_type": "markdown",
      "metadata": {
        "id": "view-in-github",
        "colab_type": "text"
      },
      "source": [
        "<a href=\"https://colab.research.google.com/github/shrey-001/Image-Semantic-Segmentation-Using-U-net/blob/main/U_net_helen_dataset.ipynb\" target=\"_parent\"><img src=\"https://colab.research.google.com/assets/colab-badge.svg\" alt=\"Open In Colab\"/></a>"
      ]
    },
    {
      "cell_type": "code",
      "metadata": {
        "colab": {
          "base_uri": "https://localhost:8080/"
        },
        "id": "O04vyT01ISXf",
        "outputId": "ce2f7993-eabe-467a-b5d9-2388dba53ea5"
      },
      "source": [
        "import numpy as np\n",
        "import pandas as pd\n",
        "import tensorflow as tf\n",
        "\n",
        "import keras\n",
        "from keras.layers import *\n",
        "from keras.models import Sequential  \n",
        "from keras.models import Model,load_model\n",
        "from keras.callbacks import ReduceLROnPlateau, ModelCheckpoint\n",
        "from keras.utils import to_categorical\n",
        "import cv2\n",
        "from keras import backend as K\n",
        "\n",
        "\n",
        "from sklearn.model_selection import train_test_split\n",
        "from sklearn.metrics import f1_score\n",
        "\n",
        "\n",
        "\n",
        "import time\n",
        "import matplotlib.pyplot as plt\n",
        "import os\n",
        "\n",
        "from google.colab import drive\n",
        "drive.mount(\"/content/drive\")"
      ],
      "execution_count": 1,
      "outputs": [
        {
          "output_type": "stream",
          "text": [
            "Mounted at /content/drive\n"
          ],
          "name": "stdout"
        }
      ]
    },
    {
      "cell_type": "code",
      "metadata": {
        "id": "TB6Ny1ikImBh"
      },
      "source": [
        "train_path=\"/content/drive/MyDrive/U-net/data/new/train\"\n",
        "test_path=\"/content/drive/MyDrive/U-net/data/new/test\""
      ],
      "execution_count": 2,
      "outputs": []
    },
    {
      "cell_type": "code",
      "metadata": {
        "id": "RhQplFUkIolp"
      },
      "source": [
        "all_file=os.listdir(train_path)\n",
        "#all_file=sorted(all_file)"
      ],
      "execution_count": 3,
      "outputs": []
    },
    {
      "cell_type": "code",
      "metadata": {
        "id": "q4V_iIgNAKuf"
      },
      "source": [
        "list_ids=[]\n",
        "for i in all_file:\n",
        "  if i.endswith(\"_label.png\"):\n",
        "    list_ids.append(i.replace(\"_label.png\",\"\"))"
      ],
      "execution_count": 4,
      "outputs": []
    },
    {
      "cell_type": "markdown",
      "metadata": {
        "id": "NXTQjqwY7BHr"
      },
      "source": [
        "Data Generator\n"
      ]
    },
    {
      "cell_type": "code",
      "metadata": {
        "id": "6v-jdTRyItSe"
      },
      "source": [
        "def load_image(path2):\n",
        "  image=cv2.imread(train_path+'/'+path2,cv2.IMREAD_GRAYSCALE)\n",
        "  image=cv2.resize(image,(572,572),interpolation=cv2.INTER_AREA)\n",
        "\n",
        "  image=image/255.0\n",
        "  image=cv2.normalize(image,None)\n",
        "  image=np.expand_dims(image,axis=2)\n",
        "  image=image.astype(np.float32)\n",
        "  return image"
      ],
      "execution_count": 5,
      "outputs": []
    },
    {
      "cell_type": "code",
      "metadata": {
        "id": "BaChwL1bIvb5"
      },
      "source": [
        "def load_label(path2):\n",
        "  \n",
        "  labels=cv2.imread(train_path+'/'+path2, cv2.IMREAD_GRAYSCALE)\n",
        "  labels=cv2.resize(labels,(388,388),interpolation=cv2.INTER_AREA)\n",
        "  labels=labels.astype(np.uint32)\n",
        "  return labels\n",
        "  "
      ],
      "execution_count": 6,
      "outputs": []
    },
    {
      "cell_type": "code",
      "metadata": {
        "id": "oxnWfVicASvP"
      },
      "source": [
        "class DataGenerator(keras.utils.Sequence):\n",
        "    'Generates data for Keras'\n",
        "    def __init__(self, list_IDs, batch_size=4,  dim_x=(572,572), dim_y=(388,388) , n_channels=1,\n",
        "                 n_classes=11, shuffle=True):\n",
        "        'Initialization'\n",
        "        self.dim_x = dim_x\n",
        "        self.dim_y = dim_y\n",
        "        self.batch_size = batch_size\n",
        "        self.list_IDs = list_IDs\n",
        "        self.n_channels = n_channels\n",
        "        self.n_classes = n_classes\n",
        "        self.shuffle = shuffle\n",
        "        self.on_epoch_end()\n",
        "\n",
        "    def __len__(self):\n",
        "        'Denotes the number of batches per epoch'\n",
        "        return int(np.floor(len(self.list_IDs) / self.batch_size))\n",
        "\n",
        "    def __getitem__(self, index):\n",
        "        'Generate one batch of data'\n",
        "        # Generate indexes of the batch\n",
        "        indexes = self.indexes[index*self.batch_size:(index+1)*self.batch_size]\n",
        "\n",
        "        # Find list of IDs\n",
        "        list_IDs_temp = [self.list_IDs[k] for k in indexes]\n",
        "\n",
        "        # Generate data\n",
        "        X, y = self.__data_generation(list_IDs_temp)\n",
        "\n",
        "        return X, y\n",
        "\n",
        "    def on_epoch_end(self):\n",
        "        'Updates indexes after each epoch'\n",
        "        self.indexes = np.arange(len(self.list_IDs))\n",
        "        if self.shuffle == True:\n",
        "            np.random.shuffle(self.indexes)\n",
        "\n",
        "    def __data_generation(self, list_IDs_temp):\n",
        "        'Generates data containing batch_size samples' # X : (n_samples, *dim, n_channels)\n",
        "        # Initialization\n",
        "        X = np.empty((self.batch_size, *self.dim_x, self.n_channels))\n",
        "        y = np.empty((self.batch_size, *self.dim_y), dtype=int)\n",
        "\n",
        "        # Generate data\n",
        "        for i, ID in enumerate(list_IDs_temp):\n",
        "            # Store sample\n",
        "            #X[i,] = np.load('data/' + ID + '.npy')\n",
        "            X[i,] = load_image(ID+\"_image.jpg\")\n",
        "            # Store class\n",
        "            #y[i] = self.labels[ID]\n",
        "            y[i] = load_label(ID+\"_label.png\")\n",
        "\n",
        "        return X, keras.utils.to_categorical(y, num_classes=self.n_classes)"
      ],
      "execution_count": 7,
      "outputs": []
    },
    {
      "cell_type": "markdown",
      "metadata": {
        "id": "Mcn5jBRI6zmu"
      },
      "source": [
        "Model Training\n"
      ]
    },
    {
      "cell_type": "code",
      "metadata": {
        "id": "lplZIhRmI8wy"
      },
      "source": [
        "input_size = (572,572,1)\n",
        "inputs = Input(input_size)\n",
        "\n",
        "conv1 = Conv2D(64, 3, activation = 'relu',kernel_initializer='he_normal')(inputs)\n",
        "conv1 = Conv2D(64, 3, activation = 'relu',kernel_initializer='he_normal')(conv1)\n",
        "pool1 = MaxPooling2D(pool_size=(2, 2))(conv1)\n",
        "\n",
        "conv2 = Conv2D(128, 3, activation = 'relu',kernel_initializer='he_normal')(pool1)\n",
        "conv2 = Conv2D(128, 3, activation = 'relu',kernel_initializer='he_normal')(conv2)\n",
        "pool2 = MaxPooling2D(pool_size=(2, 2))(conv2)\n",
        "\n",
        "conv3 = Conv2D(256, 3, activation = 'relu',kernel_initializer='he_normal')(pool2)\n",
        "conv3 = Conv2D(256, 3, activation = 'relu',kernel_initializer='he_normal')(conv3)\n",
        "pool3 = MaxPooling2D(pool_size=(2, 2))(conv3)\n",
        "\n",
        "conv4 = Conv2D(512, 3, activation = 'relu',kernel_initializer='he_normal')(pool3)\n",
        "conv4 = Conv2D(512, 3, activation = 'relu',kernel_initializer='he_normal')(conv4)\n",
        "pool4 = MaxPooling2D(pool_size=(2, 2))(conv4)\n",
        "\n",
        "conv5 = Conv2D(1024, 3, activation = 'relu',kernel_initializer='he_normal')(pool4)\n",
        "conv5 = Conv2D(1024, 3, activation = 'relu',kernel_initializer='he_normal')(conv5)\n",
        "    \n",
        "\n",
        "up6 = Conv2D(512, 2, activation = 'relu',padding='same',kernel_initializer='he_normal')(UpSampling2D(size = (2,2))(conv5))\n",
        "crop4=Cropping2D(cropping=((4, 4), (4, 4)))(conv4)\n",
        "merge6 = concatenate([crop4,up6], axis = 3)\n",
        "conv6 = Conv2D(512, 3, activation = 'relu',kernel_initializer='he_normal')(merge6)\n",
        "conv6 = Conv2D(512, 3, activation = 'relu',kernel_initializer='he_normal')(conv6)\n",
        "\n",
        "\n",
        "up7 = Conv2D(256, 2, activation = 'relu',padding='same',kernel_initializer='he_normal')(UpSampling2D(size = (2,2))(conv6))\n",
        "crop3=Cropping2D(cropping=((16, 16), (16, 16)))(conv3)\n",
        "merge7 = concatenate([crop3,up7], axis = 3)\n",
        "conv7 = Conv2D(256, 3, activation = 'relu',kernel_initializer='he_normal')(merge7)\n",
        "conv7 = Conv2D(256, 3, activation = 'relu',kernel_initializer='he_normal')(conv7)\n",
        "\n",
        "up8 = Conv2D(128, 2, activation = 'relu',padding='same',kernel_initializer='he_normal')(UpSampling2D(size = (2,2))(conv7))\n",
        "crop2=Cropping2D(cropping=((40, 40), (40, 40)))(conv2)\n",
        "merge8 = concatenate([crop2,up8], axis = 3)\n",
        "conv8 = Conv2D(128, 3, activation = 'relu',kernel_initializer='he_normal')(merge8)\n",
        "conv8 = Conv2D(128, 3, activation = 'relu',kernel_initializer='he_normal')(conv8)\n",
        "\n",
        "up9 = Conv2D(64, 2, activation = 'relu',padding='same',kernel_initializer='he_normal')(UpSampling2D(size = (2,2))(conv8))\n",
        "crop1=Cropping2D(cropping=((88, 88), (88, 88)))(conv1)\n",
        "merge9 = concatenate([crop1,up9], axis = 3)\n",
        "conv9 = Conv2D(64, 3, activation = 'relu',kernel_initializer='he_normal')(merge9)\n",
        "conv9 = Conv2D(64, 3, activation = 'relu',kernel_initializer='he_normal')(conv9)\n",
        "\n",
        "#conv9 = Conv2D(2, 3, activation = 'relu',padding='same',kernel_initializer='he_normal')(conv9)\n",
        "conv10 = Conv2D(11, 1, activation = 'sigmoid')(conv9)\n",
        "\n",
        "model = Model(inputs,conv10)\n",
        "\n",
        "model.compile(optimizer = keras.optimizers.Adam(lr=0.0001), loss = 'binary_crossentropy', metrics = ['accuracy'])"
      ],
      "execution_count": 8,
      "outputs": []
    },
    {
      "cell_type": "code",
      "metadata": {
        "colab": {
          "base_uri": "https://localhost:8080/"
        },
        "id": "kSdtMzcbI_LH",
        "outputId": "05e6dddc-e6e1-470d-b412-0bb26aafa199"
      },
      "source": [
        "model.summary()"
      ],
      "execution_count": 9,
      "outputs": [
        {
          "output_type": "stream",
          "text": [
            "Model: \"model\"\n",
            "__________________________________________________________________________________________________\n",
            "Layer (type)                    Output Shape         Param #     Connected to                     \n",
            "==================================================================================================\n",
            "input_1 (InputLayer)            [(None, 572, 572, 1) 0                                            \n",
            "__________________________________________________________________________________________________\n",
            "conv2d (Conv2D)                 (None, 570, 570, 64) 640         input_1[0][0]                    \n",
            "__________________________________________________________________________________________________\n",
            "conv2d_1 (Conv2D)               (None, 568, 568, 64) 36928       conv2d[0][0]                     \n",
            "__________________________________________________________________________________________________\n",
            "max_pooling2d (MaxPooling2D)    (None, 284, 284, 64) 0           conv2d_1[0][0]                   \n",
            "__________________________________________________________________________________________________\n",
            "conv2d_2 (Conv2D)               (None, 282, 282, 128 73856       max_pooling2d[0][0]              \n",
            "__________________________________________________________________________________________________\n",
            "conv2d_3 (Conv2D)               (None, 280, 280, 128 147584      conv2d_2[0][0]                   \n",
            "__________________________________________________________________________________________________\n",
            "max_pooling2d_1 (MaxPooling2D)  (None, 140, 140, 128 0           conv2d_3[0][0]                   \n",
            "__________________________________________________________________________________________________\n",
            "conv2d_4 (Conv2D)               (None, 138, 138, 256 295168      max_pooling2d_1[0][0]            \n",
            "__________________________________________________________________________________________________\n",
            "conv2d_5 (Conv2D)               (None, 136, 136, 256 590080      conv2d_4[0][0]                   \n",
            "__________________________________________________________________________________________________\n",
            "max_pooling2d_2 (MaxPooling2D)  (None, 68, 68, 256)  0           conv2d_5[0][0]                   \n",
            "__________________________________________________________________________________________________\n",
            "conv2d_6 (Conv2D)               (None, 66, 66, 512)  1180160     max_pooling2d_2[0][0]            \n",
            "__________________________________________________________________________________________________\n",
            "conv2d_7 (Conv2D)               (None, 64, 64, 512)  2359808     conv2d_6[0][0]                   \n",
            "__________________________________________________________________________________________________\n",
            "max_pooling2d_3 (MaxPooling2D)  (None, 32, 32, 512)  0           conv2d_7[0][0]                   \n",
            "__________________________________________________________________________________________________\n",
            "conv2d_8 (Conv2D)               (None, 30, 30, 1024) 4719616     max_pooling2d_3[0][0]            \n",
            "__________________________________________________________________________________________________\n",
            "conv2d_9 (Conv2D)               (None, 28, 28, 1024) 9438208     conv2d_8[0][0]                   \n",
            "__________________________________________________________________________________________________\n",
            "up_sampling2d (UpSampling2D)    (None, 56, 56, 1024) 0           conv2d_9[0][0]                   \n",
            "__________________________________________________________________________________________________\n",
            "cropping2d (Cropping2D)         (None, 56, 56, 512)  0           conv2d_7[0][0]                   \n",
            "__________________________________________________________________________________________________\n",
            "conv2d_10 (Conv2D)              (None, 56, 56, 512)  2097664     up_sampling2d[0][0]              \n",
            "__________________________________________________________________________________________________\n",
            "concatenate (Concatenate)       (None, 56, 56, 1024) 0           cropping2d[0][0]                 \n",
            "                                                                 conv2d_10[0][0]                  \n",
            "__________________________________________________________________________________________________\n",
            "conv2d_11 (Conv2D)              (None, 54, 54, 512)  4719104     concatenate[0][0]                \n",
            "__________________________________________________________________________________________________\n",
            "conv2d_12 (Conv2D)              (None, 52, 52, 512)  2359808     conv2d_11[0][0]                  \n",
            "__________________________________________________________________________________________________\n",
            "up_sampling2d_1 (UpSampling2D)  (None, 104, 104, 512 0           conv2d_12[0][0]                  \n",
            "__________________________________________________________________________________________________\n",
            "cropping2d_1 (Cropping2D)       (None, 104, 104, 256 0           conv2d_5[0][0]                   \n",
            "__________________________________________________________________________________________________\n",
            "conv2d_13 (Conv2D)              (None, 104, 104, 256 524544      up_sampling2d_1[0][0]            \n",
            "__________________________________________________________________________________________________\n",
            "concatenate_1 (Concatenate)     (None, 104, 104, 512 0           cropping2d_1[0][0]               \n",
            "                                                                 conv2d_13[0][0]                  \n",
            "__________________________________________________________________________________________________\n",
            "conv2d_14 (Conv2D)              (None, 102, 102, 256 1179904     concatenate_1[0][0]              \n",
            "__________________________________________________________________________________________________\n",
            "conv2d_15 (Conv2D)              (None, 100, 100, 256 590080      conv2d_14[0][0]                  \n",
            "__________________________________________________________________________________________________\n",
            "up_sampling2d_2 (UpSampling2D)  (None, 200, 200, 256 0           conv2d_15[0][0]                  \n",
            "__________________________________________________________________________________________________\n",
            "cropping2d_2 (Cropping2D)       (None, 200, 200, 128 0           conv2d_3[0][0]                   \n",
            "__________________________________________________________________________________________________\n",
            "conv2d_16 (Conv2D)              (None, 200, 200, 128 131200      up_sampling2d_2[0][0]            \n",
            "__________________________________________________________________________________________________\n",
            "concatenate_2 (Concatenate)     (None, 200, 200, 256 0           cropping2d_2[0][0]               \n",
            "                                                                 conv2d_16[0][0]                  \n",
            "__________________________________________________________________________________________________\n",
            "conv2d_17 (Conv2D)              (None, 198, 198, 128 295040      concatenate_2[0][0]              \n",
            "__________________________________________________________________________________________________\n",
            "conv2d_18 (Conv2D)              (None, 196, 196, 128 147584      conv2d_17[0][0]                  \n",
            "__________________________________________________________________________________________________\n",
            "up_sampling2d_3 (UpSampling2D)  (None, 392, 392, 128 0           conv2d_18[0][0]                  \n",
            "__________________________________________________________________________________________________\n",
            "cropping2d_3 (Cropping2D)       (None, 392, 392, 64) 0           conv2d_1[0][0]                   \n",
            "__________________________________________________________________________________________________\n",
            "conv2d_19 (Conv2D)              (None, 392, 392, 64) 32832       up_sampling2d_3[0][0]            \n",
            "__________________________________________________________________________________________________\n",
            "concatenate_3 (Concatenate)     (None, 392, 392, 128 0           cropping2d_3[0][0]               \n",
            "                                                                 conv2d_19[0][0]                  \n",
            "__________________________________________________________________________________________________\n",
            "conv2d_20 (Conv2D)              (None, 390, 390, 64) 73792       concatenate_3[0][0]              \n",
            "__________________________________________________________________________________________________\n",
            "conv2d_21 (Conv2D)              (None, 388, 388, 64) 36928       conv2d_20[0][0]                  \n",
            "__________________________________________________________________________________________________\n",
            "conv2d_22 (Conv2D)              (None, 388, 388, 11) 715         conv2d_21[0][0]                  \n",
            "==================================================================================================\n",
            "Total params: 31,031,243\n",
            "Trainable params: 31,031,243\n",
            "Non-trainable params: 0\n",
            "__________________________________________________________________________________________________\n"
          ],
          "name": "stdout"
        }
      ]
    },
    {
      "cell_type": "code",
      "metadata": {
        "colab": {
          "base_uri": "https://localhost:8080/"
        },
        "id": "Nx01U5_mJC4W",
        "outputId": "071c85bf-7307-44b4-88d2-c8c4a3b97c38"
      },
      "source": [
        "EPOCHS = 15\n",
        "checkpoint_path = \"/content/drive/MyDrive/U-net/drop_check/weights-no-drop-1999-learnignrate_0.0001.h5\"\n",
        "checkpoint = ModelCheckpoint(filepath=checkpoint_path,monitor=\"accuracy\", verbose=1, save_best_only=True, mode='auto',save_freq=\"epoch\")\n",
        "training_generator=DataGenerator(list_ids)\n",
        "\n",
        "history=model.fit(training_generator,epochs=EPOCHS,callbacks=[checkpoint])"
      ],
      "execution_count": null,
      "outputs": [
        {
          "output_type": "stream",
          "text": [
            "Epoch 1/15\n",
            "499/499 [==============================] - 235s 447ms/step - loss: 0.1999 - accuracy: 0.6683\n",
            "\n",
            "Epoch 00001: accuracy improved from -inf to 0.67692, saving model to /content/drive/MyDrive/U-net/drop_check/weights-no-drop-1999-learnignrate_0.0001.h5\n",
            "Epoch 2/15\n",
            "499/499 [==============================] - 222s 445ms/step - loss: 0.1513 - accuracy: 0.6798\n",
            "\n",
            "Epoch 00002: accuracy improved from 0.67692 to 0.67867, saving model to /content/drive/MyDrive/U-net/drop_check/weights-no-drop-1999-learnignrate_0.0001.h5\n",
            "Epoch 3/15\n",
            "499/499 [==============================] - 222s 444ms/step - loss: 0.1462 - accuracy: 0.6786\n",
            "\n",
            "Epoch 00003: accuracy improved from 0.67867 to 0.68427, saving model to /content/drive/MyDrive/U-net/drop_check/weights-no-drop-1999-learnignrate_0.0001.h5\n",
            "Epoch 4/15\n",
            "499/499 [==============================] - 222s 445ms/step - loss: 0.1272 - accuracy: 0.7264\n",
            "\n",
            "Epoch 00004: accuracy improved from 0.68427 to 0.74647, saving model to /content/drive/MyDrive/U-net/drop_check/weights-no-drop-1999-learnignrate_0.0001.h5\n",
            "Epoch 5/15\n",
            "499/499 [==============================] - 222s 445ms/step - loss: 0.1022 - accuracy: 0.7835\n",
            "\n",
            "Epoch 00005: accuracy improved from 0.74647 to 0.78617, saving model to /content/drive/MyDrive/U-net/drop_check/weights-no-drop-1999-learnignrate_0.0001.h5\n",
            "Epoch 6/15\n",
            "499/499 [==============================] - 222s 445ms/step - loss: 0.0911 - accuracy: 0.8075\n",
            "\n",
            "Epoch 00006: accuracy improved from 0.78617 to 0.80982, saving model to /content/drive/MyDrive/U-net/drop_check/weights-no-drop-1999-learnignrate_0.0001.h5\n",
            "Epoch 7/15\n",
            "499/499 [==============================] - 222s 445ms/step - loss: 0.0838 - accuracy: 0.8217\n",
            "\n",
            "Epoch 00007: accuracy improved from 0.80982 to 0.82253, saving model to /content/drive/MyDrive/U-net/drop_check/weights-no-drop-1999-learnignrate_0.0001.h5\n",
            "Epoch 8/15\n",
            "499/499 [==============================] - 222s 445ms/step - loss: 0.0753 - accuracy: 0.8388\n",
            "\n",
            "Epoch 00008: accuracy improved from 0.82253 to 0.83476, saving model to /content/drive/MyDrive/U-net/drop_check/weights-no-drop-1999-learnignrate_0.0001.h5\n",
            "Epoch 9/15\n",
            "499/499 [==============================] - 222s 445ms/step - loss: 0.0730 - accuracy: 0.8432\n",
            "\n",
            "Epoch 00009: accuracy improved from 0.83476 to 0.84308, saving model to /content/drive/MyDrive/U-net/drop_check/weights-no-drop-1999-learnignrate_0.0001.h5\n",
            "Epoch 10/15\n",
            "499/499 [==============================] - 222s 445ms/step - loss: 0.0690 - accuracy: 0.8508\n",
            "\n",
            "Epoch 00010: accuracy improved from 0.84308 to 0.85283, saving model to /content/drive/MyDrive/U-net/drop_check/weights-no-drop-1999-learnignrate_0.0001.h5\n",
            "Epoch 11/15\n",
            "499/499 [==============================] - 222s 444ms/step - loss: 0.0646 - accuracy: 0.8604\n",
            "\n",
            "Epoch 00011: accuracy improved from 0.85283 to 0.86119, saving model to /content/drive/MyDrive/U-net/drop_check/weights-no-drop-1999-learnignrate_0.0001.h5\n",
            "Epoch 12/15\n",
            "499/499 [==============================] - 222s 444ms/step - loss: 0.0602 - accuracy: 0.8702\n",
            "\n",
            "Epoch 00012: accuracy improved from 0.86119 to 0.87004, saving model to /content/drive/MyDrive/U-net/drop_check/weights-no-drop-1999-learnignrate_0.0001.h5\n",
            "Epoch 13/15\n",
            "499/499 [==============================] - 222s 445ms/step - loss: 0.0543 - accuracy: 0.8835\n",
            "\n",
            "Epoch 00013: accuracy improved from 0.87004 to 0.87857, saving model to /content/drive/MyDrive/U-net/drop_check/weights-no-drop-1999-learnignrate_0.0001.h5\n",
            "Epoch 14/15\n",
            "499/499 [==============================] - 222s 445ms/step - loss: 0.0499 - accuracy: 0.8935\n",
            "\n",
            "Epoch 00014: accuracy improved from 0.87857 to 0.89035, saving model to /content/drive/MyDrive/U-net/drop_check/weights-no-drop-1999-learnignrate_0.0001.h5\n",
            "Epoch 15/15\n",
            "499/499 [==============================] - 222s 445ms/step - loss: 0.0465 - accuracy: 0.9011\n",
            "\n",
            "Epoch 00015: accuracy improved from 0.89035 to 0.90191, saving model to /content/drive/MyDrive/U-net/drop_check/weights-no-drop-1999-learnignrate_0.0001.h5\n"
          ],
          "name": "stdout"
        }
      ]
    },
    {
      "cell_type": "code",
      "metadata": {
        "id": "P8_tsazLTboS"
      },
      "source": [
        "def plot_metrics(history):\n",
        "    \n",
        "    train_loss = history['loss']\n",
        "    #val_loss = history['val_loss']\n",
        "    train_acc = history['accuracy']\n",
        "    #val_acc = history['val_accuracy']\n",
        "    \n",
        "    # Loss\n",
        "    plt.figure()\n",
        "    plt.plot(train_loss, label='Training Loss')\n",
        "    #plt.plot(val_loss, label='Validation Loss')\n",
        "    plt.title('Loss')\n",
        "    plt.legend()\n",
        "    plt.show()\n",
        "    \n",
        "    # Accuracy\n",
        "    plt.figure()\n",
        "    plt.plot(train_acc, label='Training Accuracy')\n",
        "    #plt.plot(val_acc, label='Validation Accuracy')\n",
        "    plt.title('Accuracy')\n",
        "    plt.legend()\n",
        "    plt.show()"
      ],
      "execution_count": null,
      "outputs": []
    },
    {
      "cell_type": "code",
      "metadata": {
        "id": "Z0i6CbA1PRYU",
        "colab": {
          "base_uri": "https://localhost:8080/",
          "height": 545
        },
        "outputId": "0e58ea5d-1e57-48af-fc25-7d39e7046ad8"
      },
      "source": [
        "history = history.history\n",
        "plot_metrics(history)"
      ],
      "execution_count": null,
      "outputs": [
        {
          "output_type": "display_data",
          "data": {
            "image/png": "[encoded data removed]",
            "text/plain": [
              "<Figure size 432x288 with 1 Axes>"
            ]
          },
          "metadata": {
            "tags": [],
            "needs_background": "light"
          }
        },
        {
          "output_type": "display_data",
          "data": {
            "image/png": "[encoded data removed]",
            "text/plain": [
              "<Figure size 432x288 with 1 Axes>"
            ]
          },
          "metadata": {
            "tags": [],
            "needs_background": "light"
          }
        }
      ]
    },
    {
      "cell_type": "code",
      "metadata": {
        "colab": {
          "base_uri": "https://localhost:8080/"
        },
        "id": "fHThbffuTyXU",
        "outputId": "39f231fa-587f-4416-b13d-1930de4d0669"
      },
      "source": [
        "model=load_model(filepath=\"/content/drive/MyDrive/U-net/drop_check/weights-no-drop-1999-learnignrate_0.0001.h5\")\n",
        "EPOCHS=2\n",
        "checkpoint_path = \"/content/drive/MyDrive/U-net/drop_check/weights-no-drop-1999-learnignrate_0.0001.h5\"\n",
        "checkpoint = ModelCheckpoint(filepath=checkpoint_path,monitor=\"accuracy\", verbose=1, save_best_only=True, mode='auto',save_freq=\"epoch\")\n",
        "training_generator=DataGenerator(list_ids)\n",
        "model.fit(training_generator,epochs=EPOCHS,callbacks=[checkpoint])"
      ],
      "execution_count": null,
      "outputs": [
        {
          "output_type": "stream",
          "text": [
            "Epoch 1/2\n",
            "499/499 [==============================] - 1324s 3s/step - loss: 0.0296 - accuracy: 0.9391\n",
            "\n",
            "Epoch 00001: accuracy improved from -inf to 0.93911, saving model to /content/drive/MyDrive/U-net/drop_check/weights-no-drop-1999-learnignrate_0.0001.h5\n",
            "Epoch 2/2\n",
            "499/499 [==============================] - 223s 448ms/step - loss: 0.0273 - accuracy: 0.9441\n",
            "\n",
            "Epoch 00002: accuracy improved from 0.93911 to 0.94412, saving model to /content/drive/MyDrive/U-net/drop_check/weights-no-drop-1999-learnignrate_0.0001.h5\n"
          ],
          "name": "stdout"
        },
        {
          "output_type": "execute_result",
          "data": {
            "text/plain": [
              "<tensorflow.python.keras.callbacks.History at 0x7fb7b6032c10>"
            ]
          },
          "metadata": {
            "tags": []
          },
          "execution_count": 10
        }
      ]
    },
    {
      "cell_type": "code",
      "metadata": {
        "colab": {
          "base_uri": "https://localhost:8080/"
        },
        "id": "BlNanURonJBg",
        "outputId": "825ad80a-88c1-43f5-ae1c-1db02a98cae6"
      },
      "source": [
        "# history = model.history.history\n",
        "# plot_metrics(history)\n",
        "model=load_model(\"/content/drive/MyDrive/U-net/drop_check/weights-no-drop-1999-learnignrate_0.0001.h5\")\n",
        "model.fit(training_generator,epochs=EPOCHS,callbacks=[checkpoint])"
      ],
      "execution_count": null,
      "outputs": [
        {
          "output_type": "stream",
          "text": [
            "Epoch 1/2\n",
            "499/499 [==============================] - 223s 446ms/step - loss: 0.0245 - accuracy: 0.9500\n",
            "\n",
            "Epoch 00001: accuracy improved from 0.94412 to 0.95002, saving model to /content/drive/MyDrive/U-net/drop_check/weights-no-drop-1999-learnignrate_0.0001.h5\n",
            "Epoch 2/2\n",
            "499/499 [==============================] - 222s 446ms/step - loss: 0.0231 - accuracy: 0.9531\n",
            "\n",
            "Epoch 00002: accuracy improved from 0.95002 to 0.95310, saving model to /content/drive/MyDrive/U-net/drop_check/weights-no-drop-1999-learnignrate_0.0001.h5\n"
          ],
          "name": "stdout"
        },
        {
          "output_type": "execute_result",
          "data": {
            "text/plain": [
              "<tensorflow.python.keras.callbacks.History at 0x7fb760270f50>"
            ]
          },
          "metadata": {
            "tags": []
          },
          "execution_count": 17
        }
      ]
    },
    {
      "cell_type": "code",
      "metadata": {
        "colab": {
          "base_uri": "https://localhost:8080/"
        },
        "id": "E2_9x6Oipil4",
        "outputId": "6d3776c4-2692-48df-cfb9-a44760e168af"
      },
      "source": [
        "model.fit(training_generator,epochs=3,callbacks=[checkpoint])"
      ],
      "execution_count": null,
      "outputs": [
        {
          "output_type": "stream",
          "text": [
            "Epoch 1/3\n",
            "499/499 [==============================] - 222s 445ms/step - loss: 0.0216 - accuracy: 0.9563\n",
            "\n",
            "Epoch 00001: accuracy improved from 0.95310 to 0.95627, saving model to /content/drive/MyDrive/U-net/drop_check/weights-no-drop-1999-learnignrate_0.0001.h5\n",
            "Epoch 2/3\n",
            "499/499 [==============================] - 223s 445ms/step - loss: 0.0205 - accuracy: 0.9586\n",
            "\n",
            "Epoch 00002: accuracy improved from 0.95627 to 0.95859, saving model to /content/drive/MyDrive/U-net/drop_check/weights-no-drop-1999-learnignrate_0.0001.h5\n",
            "Epoch 3/3\n",
            "499/499 [==============================] - 222s 445ms/step - loss: 0.0196 - accuracy: 0.9605\n",
            "\n",
            "Epoch 00003: accuracy improved from 0.95859 to 0.96053, saving model to /content/drive/MyDrive/U-net/drop_check/weights-no-drop-1999-learnignrate_0.0001.h5\n"
          ],
          "name": "stdout"
        },
        {
          "output_type": "execute_result",
          "data": {
            "text/plain": [
              "<tensorflow.python.keras.callbacks.History at 0x7fb7602b30d0>"
            ]
          },
          "metadata": {
            "tags": []
          },
          "execution_count": 18
        }
      ]
    },
    {
      "cell_type": "code",
      "metadata": {
        "colab": {
          "base_uri": "https://localhost:8080/"
        },
        "id": "EntAr2qztZSF",
        "outputId": "133c8ea7-6473-4d21-ec30-1c67aa49f040"
      },
      "source": [
        "model=load_model(\"/content/drive/MyDrive/U-net/drop_check/weights-no-drop-1999-learnignrate_0.0001.h5\")\n",
        "model.fit(training_generator,epochs=5,callbacks=[checkpoint])"
      ],
      "execution_count": null,
      "outputs": [
        {
          "output_type": "stream",
          "text": [
            "Epoch 1/5\n",
            "499/499 [==============================] - 223s 446ms/step - loss: 0.0187 - accuracy: 0.9625\n",
            "\n",
            "Epoch 00001: accuracy improved from 0.96053 to 0.96254, saving model to /content/drive/MyDrive/U-net/drop_check/weights-no-drop-1999-learnignrate_0.0001.h5\n",
            "Epoch 2/5\n",
            "499/499 [==============================] - 222s 445ms/step - loss: 0.0177 - accuracy: 0.9645\n",
            "\n",
            "Epoch 00002: accuracy improved from 0.96254 to 0.96448, saving model to /content/drive/MyDrive/U-net/drop_check/weights-no-drop-1999-learnignrate_0.0001.h5\n",
            "Epoch 3/5\n",
            "499/499 [==============================] - 222s 446ms/step - loss: 0.0168 - accuracy: 0.9665\n",
            "\n",
            "Epoch 00003: accuracy improved from 0.96448 to 0.96654, saving model to /content/drive/MyDrive/U-net/drop_check/weights-no-drop-1999-learnignrate_0.0001.h5\n",
            "Epoch 4/5\n",
            "499/499 [==============================] - 223s 446ms/step - loss: 0.0166 - accuracy: 0.9670\n",
            "\n",
            "Epoch 00004: accuracy improved from 0.96654 to 0.96705, saving model to /content/drive/MyDrive/U-net/drop_check/weights-no-drop-1999-learnignrate_0.0001.h5\n",
            "Epoch 5/5\n",
            "499/499 [==============================] - 222s 445ms/step - loss: 0.0162 - accuracy: 0.9679\n",
            "\n",
            "Epoch 00005: accuracy improved from 0.96705 to 0.96789, saving model to /content/drive/MyDrive/U-net/drop_check/weights-no-drop-1999-learnignrate_0.0001.h5\n"
          ],
          "name": "stdout"
        },
        {
          "output_type": "execute_result",
          "data": {
            "text/plain": [
              "<tensorflow.python.keras.callbacks.History at 0x7fb6ba0b9050>"
            ]
          },
          "metadata": {
            "tags": []
          },
          "execution_count": 20
        }
      ]
    },
    {
      "cell_type": "code",
      "metadata": {
        "colab": {
          "base_uri": "https://localhost:8080/"
        },
        "id": "JSRkqEQ_yXEg",
        "outputId": "77545308-24bc-4538-aa96-84f8448b7b74"
      },
      "source": [
        "EPOCHS = 5\n",
        "model=load_model(\"/content/drive/MyDrive/U-net/drop_check/weights-no-drop-1999-learnignrate_0.0001.h5\")\n",
        "checkpoint_path = \"/content/drive/MyDrive/U-net/drop_check/weights-no-drop-1999-learnignrate_0.0001_epoch_30_.{epoch:02d}.h5\"\n",
        "checkpoint = ModelCheckpoint(filepath=checkpoint_path,monitor=\"accuracy\", verbose=1, save_best_only=True, mode='auto',save_freq=\"epoch\")\n",
        "history=model.fit(training_generator,epochs=EPOCHS,callbacks=[checkpoint])"
      ],
      "execution_count": null,
      "outputs": [
        {
          "output_type": "stream",
          "text": [
            "Epoch 1/5\n",
            "499/499 [==============================] - 223s 445ms/step - loss: 0.0156 - accuracy: 0.9691\n",
            "\n",
            "Epoch 00001: accuracy improved from -inf to 0.96910, saving model to /content/drive/MyDrive/U-net/drop_check/weights-no-drop-1999-learnignrate_0.0001_epoch_30_.01.h5\n",
            "Epoch 2/5\n",
            "499/499 [==============================] - 222s 445ms/step - loss: 0.0161 - accuracy: 0.9683\n",
            "\n",
            "Epoch 00002: accuracy did not improve from 0.96910\n",
            "Epoch 3/5\n",
            "499/499 [==============================] - 222s 445ms/step - loss: 0.0143 - accuracy: 0.9719\n",
            "\n",
            "Epoch 00003: accuracy improved from 0.96910 to 0.97189, saving model to /content/drive/MyDrive/U-net/drop_check/weights-no-drop-1999-learnignrate_0.0001_epoch_30_.03.h5\n",
            "Epoch 4/5\n",
            "499/499 [==============================] - 222s 445ms/step - loss: 0.0137 - accuracy: 0.9731\n",
            "\n",
            "Epoch 00004: accuracy improved from 0.97189 to 0.97311, saving model to /content/drive/MyDrive/U-net/drop_check/weights-no-drop-1999-learnignrate_0.0001_epoch_30_.04.h5\n",
            "Epoch 5/5\n",
            "499/499 [==============================] - 222s 445ms/step - loss: 0.0135 - accuracy: 0.9736\n",
            "\n",
            "Epoch 00005: accuracy improved from 0.97311 to 0.97358, saving model to /content/drive/MyDrive/U-net/drop_check/weights-no-drop-1999-learnignrate_0.0001_epoch_30_.05.h5\n"
          ],
          "name": "stdout"
        }
      ]
    },
    {
      "cell_type": "code",
      "metadata": {
        "id": "bKBB_87otYGx"
      },
      "source": [
        ""
      ],
      "execution_count": null,
      "outputs": []
    },
    {
      "cell_type": "code",
      "metadata": {
        "id": "Oyl2OgiHlRja"
      },
      "source": [
        ""
      ],
      "execution_count": null,
      "outputs": []
    },
    {
      "cell_type": "code",
      "metadata": {
        "id": "xeBMcmU4lgo7"
      },
      "source": [
        ""
      ],
      "execution_count": null,
      "outputs": []
    },
    {
      "cell_type": "code",
      "metadata": {
        "id": "P1APbBMgpSNA"
      },
      "source": [
        ""
      ],
      "execution_count": null,
      "outputs": []
    },
    {
      "cell_type": "code",
      "metadata": {
        "id": "bUYYaI1CpK-u"
      },
      "source": [
        ""
      ],
      "execution_count": null,
      "outputs": []
    },
    {
      "cell_type": "code",
      "metadata": {
        "id": "mo_OdLgHpfuI"
      },
      "source": [
        ""
      ],
      "execution_count": null,
      "outputs": []
    },
    {
      "cell_type": "code",
      "metadata": {
        "id": "8DIuBxAPvEVD"
      },
      "source": [
        ""
      ],
      "execution_count": null,
      "outputs": []
    },
    {
      "cell_type": "code",
      "metadata": {
        "id": "fL_JcxpAu8i8"
      },
      "source": [
        ""
      ],
      "execution_count": null,
      "outputs": []
    },
    {
      "cell_type": "code",
      "metadata": {
        "id": "N6hCM0YwvKFH"
      },
      "source": [
        ""
      ],
      "execution_count": null,
      "outputs": []
    },
    {
      "cell_type": "code",
      "metadata": {
        "id": "d9D5Oxpd1MEP"
      },
      "source": [
        ""
      ],
      "execution_count": null,
      "outputs": []
    },
    {
      "cell_type": "code",
      "metadata": {
        "id": "MCOpql041hzD"
      },
      "source": [
        ""
      ],
      "execution_count": null,
      "outputs": []
    },
    {
      "cell_type": "code",
      "metadata": {
        "id": "Z1RjJCDS1rrh"
      },
      "source": [
        ""
      ],
      "execution_count": null,
      "outputs": []
    },
    {
      "cell_type": "code",
      "metadata": {
        "id": "N26FADmQ-IKk"
      },
      "source": [
        ""
      ],
      "execution_count": null,
      "outputs": []
    },
    {
      "cell_type": "code",
      "metadata": {
        "id": "2JmxLcus9T2f"
      },
      "source": [
        ""
      ],
      "execution_count": null,
      "outputs": []
    },
    {
      "cell_type": "code",
      "metadata": {
        "colab": {
          "base_uri": "https://localhost:8080/"
        },
        "id": "aMqQmMct_yAn",
        "outputId": "60a63fb5-5574-42d7-8044-b47741b0c4b3"
      },
      "source": [
        ""
      ],
      "execution_count": null,
      "outputs": [
        {
          "output_type": "execute_result",
          "data": {
            "text/plain": [
              "['1012675629_2',\n",
              " '100032540_1',\n",
              " '1018882799_1',\n",
              " '1019068877_1',\n",
              " '1021890651_1',\n",
              " '1033312112_1',\n",
              " '103770709_1',\n",
              " '1030333538_1',\n",
              " '1050957686_1',\n",
              " '103887554_1',\n",
              " '106348540_1',\n",
              " '1063957157_1',\n",
              " '1050957686_2',\n",
              " '107473045_1',\n",
              " '111168419_1',\n",
              " '109172267_1',\n",
              " '111247636_1',\n",
              " '107635070_1',\n",
              " '109209934_1',\n",
              " '1111575413_1',\n",
              " '1144216773_1',\n",
              " '1125456779_1',\n",
              " '1115234911_1',\n",
              " '1124465440_1',\n",
              " '114530171_1',\n",
              " '114501272_1',\n",
              " '1156177278_1',\n",
              " '11564757_2',\n",
              " '1163855977_1',\n",
              " '1166270350_1',\n",
              " '1167462532_1',\n",
              " '118736733_2',\n",
              " '118471529_1',\n",
              " '118736733_1',\n",
              " '117932364_1',\n",
              " '1195037433_1',\n",
              " '118736828_1',\n",
              " '1207662328_2',\n",
              " '120801881_1',\n",
              " '122276700_1',\n",
              " '1227072121_1',\n",
              " '1208068331_1',\n",
              " '1238488784_1',\n",
              " '1240101737_1',\n",
              " '1240746154_1',\n",
              " '1252885598_1',\n",
              " '1265969136_1',\n",
              " '1259817140_1',\n",
              " '126229661_1',\n",
              " '1266283652_1',\n",
              " '128244378_1',\n",
              " '127567332_1',\n",
              " '1269816217_1',\n",
              " '126968967_1',\n",
              " '1297446285_1',\n",
              " '130625688_1',\n",
              " '131437823_1',\n",
              " '131787989_1',\n",
              " '1336365736_1',\n",
              " '13601661_1',\n",
              " '1344304961_1',\n",
              " '1344739819_1',\n",
              " '1327964792_1',\n",
              " '1405372343_1',\n",
              " '1384775111_1',\n",
              " '1399115619_1',\n",
              " '1385689774_1',\n",
              " '140606432_1',\n",
              " '1407641926_1',\n",
              " '1412970826_1',\n",
              " '1408008592_1',\n",
              " '1418178512_1',\n",
              " '1418180068_1',\n",
              " '1414607508_1',\n",
              " '141794264_1',\n",
              " '1418181204_1',\n",
              " '1425317189_1',\n",
              " '1425648903_2',\n",
              " '1430618662_1',\n",
              " '1429860583_1',\n",
              " '1427742925_1',\n",
              " '143588896_1',\n",
              " '1440501186_1',\n",
              " '1440499238_1',\n",
              " '145548320_1',\n",
              " '146978430_1',\n",
              " '149162488_1',\n",
              " '1468798538_1',\n",
              " '15024375_1',\n",
              " '150766294_1',\n",
              " '1515641689_1',\n",
              " '1507775914_1',\n",
              " '151905797_1',\n",
              " '1525918600_1',\n",
              " '1529613122_1',\n",
              " '1527094652_1',\n",
              " '155093594_1',\n",
              " '158249995_1',\n",
              " '155393981_1',\n",
              " '1589999087_1']"
            ]
          },
          "metadata": {
            "tags": []
          },
          "execution_count": 44
        }
      ]
    },
    {
      "cell_type": "code",
      "metadata": {
        "id": "cFZx-tLA1npZ"
      },
      "source": [
        "test_image=load_image2(\"1012675629_2_image.jpg\")\n",
        "test_label=load_label2(\"1012675629_2_label.png\")\n",
        "xx=[]\n",
        "yy=[]\n",
        "\n",
        "xx.append(test_image)\n",
        "xx=np.array(xx)\n",
        "\n",
        "yy.append(test_label)\n",
        "yy=to_categorical(yy,11)"
      ],
      "execution_count": null,
      "outputs": []
    },
    {
      "cell_type": "code",
      "metadata": {
        "colab": {
          "base_uri": "https://localhost:8080/"
        },
        "id": "mhszOZYW1oM0",
        "outputId": "2a3f0ac4-043d-4146-bd14-242de11b188c"
      },
      "source": [
        "model.evaluate(xx,yy)"
      ],
      "execution_count": null,
      "outputs": [
        {
          "output_type": "stream",
          "text": [
            "1/1 [==============================] - 0s 63ms/step - loss: 9.4776 - accuracy: 0.2676\n"
          ],
          "name": "stdout"
        },
        {
          "output_type": "execute_result",
          "data": {
            "text/plain": [
              "[9.477569580078125, 0.2675563395023346]"
            ]
          },
          "metadata": {
            "tags": []
          },
          "execution_count": 46
        }
      ]
    },
    {
      "cell_type": "code",
      "metadata": {
        "id": "ZJ3G_AyG11Dq"
      },
      "source": [
        "pre=model.predict(xx)"
      ],
      "execution_count": null,
      "outputs": []
    },
    {
      "cell_type": "code",
      "metadata": {
        "id": "xVJxH8Cs15rj"
      },
      "source": [
        "pre=np.argmax(pre,axis=3)"
      ],
      "execution_count": null,
      "outputs": []
    },
    {
      "cell_type": "code",
      "metadata": {
        "colab": {
          "base_uri": "https://localhost:8080/"
        },
        "id": "xh2WwGCA2Bnb",
        "outputId": "81a3782a-5e36-490a-d35c-80f33a93b6b5"
      },
      "source": [
        "np.unique(pre)"
      ],
      "execution_count": null,
      "outputs": [
        {
          "output_type": "execute_result",
          "data": {
            "text/plain": [
              "array([ 0,  1,  6,  9, 10])"
            ]
          },
          "metadata": {
            "tags": []
          },
          "execution_count": 37
        }
      ]
    },
    {
      "cell_type": "code",
      "metadata": {
        "id": "pUEaXkSU2TYX"
      },
      "source": [
        ""
      ],
      "execution_count": null,
      "outputs": []
    }
  ]
}